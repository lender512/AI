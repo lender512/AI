{
  "cells": [
    {
      "cell_type": "code",
      "execution_count": 273,
      "metadata": {
        "id": "5rpOxKFsFR8E"
      },
      "outputs": [],
      "source": [
        "import numpy as np\n",
        "import pandas as pd\n",
        "import matplotlib.pyplot as plt\n",
        "from mpl_toolkits.mplot3d import Axes3D\n",
        "import math\n",
        "import os\n",
        "import random\n",
        "import numpy as np\n",
        "from skimage.io import imread, imshow\n",
        "from skimage.transform import resize\n",
        "import matplotlib.pyplot as plt\n",
        "import pywt\n",
        "import pywt.data\n",
        "%matplotlib inline"
      ]
    },
    {
      "cell_type": "markdown",
      "metadata": {
        "id": "a_DEtwUxFsLp"
      },
      "source": [
        "Crear el DataSet\n",
        "\n",
        "\n",
        "\n",
        "\n",
        "\n"
      ]
    },
    {
      "cell_type": "code",
      "execution_count": 274,
      "metadata": {
        "colab": {
          "base_uri": "https://localhost:8080/",
          "height": 380
        },
        "id": "RgZIGVKlFuvn",
        "outputId": "de5213fd-9704-4101-a836-6c2af8ab4493"
      },
      "outputs": [
        {
          "name": "stdout",
          "output_type": "stream",
          "text": [
            "(1000, 144)\n"
          ]
        }
      ],
      "source": [
        "def Haar(imagen, cortes):\n",
        "  for i in range(cortes):\n",
        "    imagen, (LH, HL, HH) = pywt.dwt2(imagen, 'haar') \n",
        "  return imagen\n",
        "\n",
        "def vectorizar(matrix):\n",
        "  return matrix.flatten()\n",
        "\n",
        "ruta = R'C:/Users/lucho/repos/AI/3.1/angry/'\n",
        "\n",
        "counter = 0\n",
        "maxFiless = 500\n",
        "x = np.ones((maxFiless*2, 144))\n",
        "y = np.ones((maxFiless*2, 1))\n",
        "# print(x)\n",
        "for filename in os.listdir(ruta):\n",
        "    if counter == maxFiless -1: break\n",
        "    f = os.path.join(ruta, filename)\n",
        "    # checking if it is a file\n",
        "    if os.path.isfile(f):\n",
        "      counter += 1\n",
        "      foto  = imread(f)\n",
        "      imagen = Haar(foto,2)\n",
        "      v = vectorizar(imagen)\n",
        "      # print(f)\n",
        "      # print(v.shape)\n",
        "      x[counter] = v\n",
        "      y[counter] = 0\n",
        "      \n",
        "counter = 0\n",
        "ruta = R'C:/Users/lucho/repos/AI/3.1/happy/'\n",
        "for filename in os.listdir(ruta):\n",
        "    if counter == maxFiless -1: break\n",
        "    f = os.path.join(ruta, filename)\n",
        "    # checking if it is a file\n",
        "    if os.path.isfile(f):\n",
        "      counter += 1\n",
        "      foto  = imread(f)\n",
        "      imagen = Haar(foto,2)\n",
        "      v = vectorizar(imagen)\n",
        "      # print(f)\n",
        "      # print(v.shape)\n",
        "      x[maxFiless + counter] = v\n",
        "      y[maxFiless + counter] = 1\n",
        "      # print(counter)\n",
        "\n",
        "print(x.shape)\n"
      ]
    },
    {
      "cell_type": "markdown",
      "metadata": {
        "id": "MHWVdGjbIUna"
      },
      "source": [
        "## Loss function\n",
        "$\\mathcal{L} = \\frac{1}{2n}\\sum_{i=0}^n (y_i - h(x_i))^2$ "
      ]
    },
    {
      "cell_type": "code",
      "execution_count": 275,
      "metadata": {
        "id": "0RxT6ee6H8Vn"
      },
      "outputs": [],
      "source": [
        "\n",
        "def sigmoid(x, w):\n",
        "        return 1/(1 + np.exp(-(np.matmul(x, w))))\n",
        "\n",
        "def derivada(x, y, w):\n",
        "    return np.matmul((y.T[0] - sigmoid(x, w)), -x)/y.shape[0]"
      ]
    },
    {
      "cell_type": "code",
      "execution_count": 276,
      "metadata": {
        "id": "yv06Mc7NJJx6"
      },
      "outputs": [],
      "source": [
        "def update(w, dw, alfa):\n",
        "  w = w - alfa * dw\n",
        "  return w"
      ]
    },
    {
      "cell_type": "code",
      "execution_count": 277,
      "metadata": {
        "id": "HSuPO-XiIjem"
      },
      "outputs": [],
      "source": [
        "def Plot_Loss(epochs,loss):\n",
        "   plt.plot(epochs, loss)\n"
      ]
    },
    {
      "cell_type": "markdown",
      "metadata": {
        "id": "nis8QDOFXep7"
      },
      "source": [
        "## Testing"
      ]
    },
    {
      "cell_type": "code",
      "execution_count": 278,
      "metadata": {
        "id": "hO7oadbnJoRv"
      },
      "outputs": [],
      "source": [
        "def test(x,y,w,b):\n",
        "  return Error(x,y,w,b)\n",
        "  # write your code here"
      ]
    },
    {
      "cell_type": "code",
      "execution_count": 279,
      "metadata": {
        "id": "c9T4hkAK6TIW"
      },
      "outputs": [],
      "source": [
        "def train(x, y, epochs, alpha):\n",
        "  w = np.array([np.random.rand() for i in range(145)])\n",
        "  for i in range(epochs):\n",
        "    dw = derivada(x, y, w)\n",
        "    w = update(w, dw, alpha)\n",
        "  return w"
      ]
    },
    {
      "cell_type": "code",
      "execution_count": 280,
      "metadata": {},
      "outputs": [
        {
          "name": "stdout",
          "output_type": "stream",
          "text": [
            "(1000, 145)\n",
            "(1000, 1)\n"
          ]
        },
        {
          "name": "stderr",
          "output_type": "stream",
          "text": [
            "C:\\Users\\lucho\\AppData\\Local\\Temp\\ipykernel_18468\\3790415748.py:2: RuntimeWarning: overflow encountered in exp\n",
            "  return 1/(1 + np.exp(-(np.matmul(x, w))))\n"
          ]
        }
      ],
      "source": [
        "n = x.shape[0]\n",
        "x = np.concatenate((np.ones((n, 1)), x), 1)\n",
        "print(x.shape)\n",
        "print(y.shape)\n",
        "\n",
        "w = train(x, y, 100000, 0.001)\n",
        "yr = sigmoid(x, w)"
      ]
    },
    {
      "cell_type": "code",
      "execution_count": 281,
      "metadata": {},
      "outputs": [
        {
          "name": "stdout",
          "output_type": "stream",
          "text": [
            "[0. 0. 0. 0. 0. 0. 0. 0. 0. 0. 0. 1. 0. 0. 0. 0. 0. 0. 0. 0. 0. 0. 0. 0.\n",
            " 0. 0. 0. 0. 0. 0. 0. 1. 0. 0. 0. 0. 0. 0. 0. 0. 0. 0. 0. 0. 0. 0. 0. 0.\n",
            " 0. 0. 0. 0. 0. 0. 0. 0. 0. 0. 0. 0. 0. 0. 0. 0. 0. 0. 0. 0. 0. 0. 0. 0.\n",
            " 0. 0. 0. 0. 0. 0. 0. 0. 0. 0. 0. 0. 0. 0. 0. 0. 0. 0. 0. 0. 0. 0. 0. 0.\n",
            " 0. 0. 0. 0. 0. 0. 0. 0. 0. 0. 0. 0. 0. 0. 0. 0. 0. 0. 0. 0. 0. 0. 0. 0.\n",
            " 0. 0. 0. 0. 0. 0. 0. 0. 0. 0. 0. 0. 0. 0. 0. 0. 0. 0. 0. 0. 1. 0. 0. 0.\n",
            " 0. 0. 0. 0. 0. 0. 0. 0. 1. 0. 0. 0. 0. 0. 0. 0. 0. 0. 0. 0. 0. 0. 0. 0.\n",
            " 0. 0. 0. 0. 0. 0. 0. 1. 0. 0. 0. 0. 1. 0. 0. 0. 0. 0. 0. 0. 1. 0. 0. 0.\n",
            " 0. 0. 0. 0. 0. 0. 0. 1. 0. 0. 0. 0. 0. 0. 0. 0. 0. 0. 0. 0. 0. 0. 0. 1.\n",
            " 0. 0. 0. 0. 0. 1. 0. 0. 0. 0. 0. 0. 0. 0. 0. 0. 0. 0. 0. 0. 0. 0. 0. 1.\n",
            " 0. 0. 0. 0. 0. 0. 0. 0. 0. 0. 0. 0. 0. 0. 0. 0. 1. 0. 0. 0. 0. 0. 0. 0.\n",
            " 0. 0. 0. 0. 0. 0. 0. 0. 0. 0. 1. 0. 0. 0. 0. 0. 0. 0. 0. 0. 0. 0. 0. 0.\n",
            " 0. 0. 0. 0. 0. 0. 0. 0. 0. 0. 0. 0. 0. 0. 0. 0. 0. 0. 0. 0. 0. 0. 0. 0.\n",
            " 0. 0. 0. 0. 0. 0. 0. 0. 0. 0. 0. 0. 0. 0. 0. 0. 0. 0. 0. 0. 1. 0. 0. 1.\n",
            " 0. 0. 0. 0. 0. 0. 0. 0. 1. 0. 0. 0. 0. 0. 0. 0. 0. 0. 1. 0. 0. 0. 0. 0.\n",
            " 0. 0. 0. 0. 0. 0. 0. 0. 0. 0. 0. 0. 0. 0. 0. 0. 0. 0. 0. 0. 0. 0. 0. 0.\n",
            " 0. 0. 0. 0. 0. 0. 0. 0. 0. 0. 0. 0. 0. 0. 0. 0. 0. 0. 1. 0. 0. 0. 0. 0.\n",
            " 0. 0. 0. 0. 0. 0. 0. 0. 0. 0. 0. 0. 0. 0. 0. 0. 0. 0. 0. 0. 0. 0. 0. 0.\n",
            " 0. 0. 0. 0. 0. 0. 0. 0. 0. 0. 0. 0. 1. 1. 0. 0. 0. 0. 0. 0. 0. 0. 0. 0.\n",
            " 0. 0. 0. 0. 0. 1. 0. 0. 0. 0. 0. 0. 0. 0. 0. 0. 0. 0. 0. 0. 0. 0. 0. 0.\n",
            " 0. 0. 0. 0. 0. 0. 0. 0. 0. 0. 0. 0. 0. 0. 0. 0. 0. 0. 1. 0.]\n",
            "[0. 0. 0. 0. 0. 0. 1. 1. 0. 0. 1. 0. 0. 1. 0. 1. 1. 0. 1. 0. 0. 0. 1. 0.\n",
            " 1. 0. 1. 0. 1. 1. 0. 1. 0. 0. 1. 0. 0. 1. 1. 1. 0. 1. 1. 0. 1. 0. 0. 1.\n",
            " 1. 0. 1. 0. 0. 0. 0. 0. 1. 1. 0. 1. 0. 0. 1. 0. 1. 0. 1. 1. 0. 0. 0. 0.\n",
            " 0. 1. 0. 0. 0. 1. 0. 0. 0. 0. 0. 0. 1. 0. 1. 0. 1. 1. 0. 1. 0. 1. 1. 1.\n",
            " 0. 0. 1. 0. 0. 0. 1. 0. 0. 1. 0. 0. 1. 0. 1. 1. 0. 1. 0. 1. 0. 0. 0. 0.\n",
            " 0. 1. 1. 0. 0. 1. 0. 0. 1. 1. 0. 0. 1. 0. 1. 1. 0. 0. 0. 0. 1. 0. 0. 0.\n",
            " 0. 1. 0. 0. 1. 0. 0. 1. 0. 1. 1. 0. 1. 1. 0. 0. 0. 0. 0. 0. 0. 0. 0. 0.\n",
            " 1. 0. 0. 1. 1. 0. 0. 1. 0. 0. 1. 0. 0. 0. 0. 1. 1. 0. 0. 0. 0. 0. 0. 0.\n",
            " 0. 1. 0. 0. 0. 1. 0. 0. 0. 1. 0. 0. 1. 1. 1. 0. 0. 1. 0. 0. 0. 0. 1. 0.\n",
            " 0. 0. 0. 1. 1. 1. 1. 0. 1. 1. 0. 1. 0. 0. 0. 0. 1. 1. 1. 1. 0. 0. 0. 0.\n",
            " 1. 0. 1. 0. 0. 1. 0. 0. 1. 0. 1. 1. 1. 0. 0. 0. 1. 0. 1. 1. 0. 1. 1. 0.\n",
            " 1. 1. 0. 0. 0. 0. 1. 0. 1. 1. 1. 0. 1. 0. 0. 0. 1. 0. 0. 0. 0. 0. 0. 0.\n",
            " 0. 0. 0. 1. 0. 0. 0. 0. 1. 0. 1. 0. 0. 0. 1. 0. 1. 0. 1. 0. 0. 0. 1. 0.\n",
            " 1. 0. 0. 0. 0. 1. 0. 0. 0. 1. 1. 1. 0. 0. 0. 0. 1. 1. 1. 1. 0. 1. 0. 0.\n",
            " 0. 1. 0. 0. 0. 0. 1. 1. 0. 0. 0. 0. 0. 1. 1. 0. 1. 0. 0. 0. 0. 0. 0. 0.\n",
            " 1. 1. 1. 0. 0. 0. 0. 0. 0. 1. 0. 1. 0. 0. 0. 0. 1. 0. 0. 1. 1. 0. 1. 1.\n",
            " 0. 1. 1. 1. 0. 0. 1. 0. 1. 1. 0. 0. 0. 0. 0. 0. 1. 1. 1. 0. 1. 0. 0. 0.\n",
            " 0. 1. 0. 1. 0. 1. 1. 1. 0. 0. 0. 0. 0. 1. 0. 1. 1. 0. 0. 1. 1. 1. 0. 0.\n",
            " 0. 1. 0. 1. 0. 1. 0. 0. 0. 1. 0. 0. 1. 0. 1. 0. 1. 0. 1. 0. 1. 1. 1. 0.\n",
            " 1. 1. 1. 0. 0. 1. 1. 0. 1. 1. 0. 1. 0. 0. 0. 0. 0. 0. 0. 0. 1. 0. 0. 0.\n",
            " 1. 1. 0. 0. 1. 0. 1. 0. 0. 0. 0. 0. 1. 0. 0. 0. 0. 0. 1. 0.]\n"
          ]
        },
        {
          "name": "stderr",
          "output_type": "stream",
          "text": [
            "C:\\Users\\lucho\\AppData\\Local\\Temp\\ipykernel_18468\\3790415748.py:2: RuntimeWarning: overflow encountered in exp\n",
            "  return 1/(1 + np.exp(-(np.matmul(x, w))))\n"
          ]
        },
        {
          "name": "stdout",
          "output_type": "stream",
          "text": [
            "648\n",
            "66\n"
          ]
        }
      ],
      "source": [
        "from importlib.resources import path\n",
        "\n",
        "\n",
        "print(np.round(yr[0:maxFiless:1]))\n",
        "print(np.round(yr[maxFiless:maxFiless*2:1]))\n",
        "\n",
        "ruta = R'C:/Users/lucho/repos/AI/3.1/angry/'\n",
        "\n",
        "oneCounter = 0\n",
        "zeroCounter = 0\n",
        "\n",
        "for filename in os.listdir(ruta):\n",
        "    f = os.path.join(ruta, filename)\n",
        "    if os.path.isfile(f):\n",
        "      foto  = imread(f)\n",
        "      imagen = Haar(foto,2)\n",
        "      v = vectorizar(imagen)\n",
        "      x = np.insert(v, 0, 1., axis=0)\n",
        "      ytest = sigmoid(x, w)\n",
        "      if ytest == 0:\n",
        "        zeroCounter += 1\n",
        "      else: oneCounter += 1\n",
        "print(zeroCounter)\n",
        "print(oneCounter)\n",
        "      "
      ]
    }
  ],
  "metadata": {
    "colab": {
      "collapsed_sections": [],
      "name": "Regresiones 2022.2.ipynb",
      "provenance": []
    },
    "kernelspec": {
      "display_name": "Python 3.10.6 64-bit (windows store)",
      "language": "python",
      "name": "python3"
    },
    "language_info": {
      "codemirror_mode": {
        "name": "ipython",
        "version": 3
      },
      "file_extension": ".py",
      "mimetype": "text/x-python",
      "name": "python",
      "nbconvert_exporter": "python",
      "pygments_lexer": "ipython3",
      "version": "3.10.6"
    },
    "vscode": {
      "interpreter": {
        "hash": "b1fc82697690d5394813d7b32ae5c877233d2ec6558daccf0379c2991af558ac"
      }
    }
  },
  "nbformat": 4,
  "nbformat_minor": 0
}
